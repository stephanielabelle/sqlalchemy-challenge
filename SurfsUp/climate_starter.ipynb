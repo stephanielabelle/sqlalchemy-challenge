{
 "cells": [
  {
   "cell_type": "code",
   "execution_count": 1,
   "metadata": {},
   "outputs": [],
   "source": [
    "%matplotlib inline\n",
    "from matplotlib import style\n",
    "style.use('fivethirtyeight')\n",
    "import matplotlib.pyplot as plt"
   ]
  },
  {
   "cell_type": "code",
   "execution_count": 2,
   "metadata": {},
   "outputs": [],
   "source": [
    "import numpy as np\n",
    "import pandas as pd\n",
    "import datetime as dt"
   ]
  },
  {
   "cell_type": "markdown",
   "metadata": {},
   "source": [
    "# Reflect Tables into SQLAlchemy ORM"
   ]
  },
  {
   "cell_type": "code",
   "execution_count": 3,
   "metadata": {},
   "outputs": [],
   "source": [
    "# Python SQL toolkit and Object Relational Mapper\n",
    "import sqlalchemy\n",
    "from sqlalchemy.ext.automap import automap_base\n",
    "from sqlalchemy.orm import Session\n",
    "from sqlalchemy import create_engine, func, inspect"
   ]
  },
  {
   "cell_type": "code",
   "execution_count": 4,
   "metadata": {},
   "outputs": [],
   "source": [
    "# create engine to hawaii.sqlite\n",
    "engine = create_engine(\"sqlite:///../Resources/hawaii.sqlite\", echo=True)\n"
   ]
  },
  {
   "cell_type": "code",
   "execution_count": 5,
   "metadata": {},
   "outputs": [
    {
     "name": "stdout",
     "output_type": "stream",
     "text": [
      "2024-01-20 11:49:33,525 INFO sqlalchemy.engine.Engine SELECT name FROM sqlite_master WHERE type='table' ORDER BY name\n",
      "2024-01-20 11:49:33,525 INFO sqlalchemy.engine.Engine [raw sql] ()\n",
      "2024-01-20 11:49:33,534 INFO sqlalchemy.engine.Engine PRAGMA main.table_xinfo(\"measurement\")\n",
      "2024-01-20 11:49:33,535 INFO sqlalchemy.engine.Engine [raw sql] ()\n",
      "2024-01-20 11:49:33,536 INFO sqlalchemy.engine.Engine SELECT sql FROM  (SELECT * FROM sqlite_master UNION ALL   SELECT * FROM sqlite_temp_master) WHERE name = ? AND type = 'table'\n",
      "2024-01-20 11:49:33,536 INFO sqlalchemy.engine.Engine [raw sql] ('measurement',)\n",
      "2024-01-20 11:49:33,536 INFO sqlalchemy.engine.Engine PRAGMA main.foreign_key_list(\"measurement\")\n",
      "2024-01-20 11:49:33,536 INFO sqlalchemy.engine.Engine [raw sql] ()\n",
      "2024-01-20 11:49:33,536 INFO sqlalchemy.engine.Engine PRAGMA temp.foreign_key_list(\"measurement\")\n",
      "2024-01-20 11:49:33,536 INFO sqlalchemy.engine.Engine [raw sql] ()\n",
      "2024-01-20 11:49:33,536 INFO sqlalchemy.engine.Engine SELECT sql FROM  (SELECT * FROM sqlite_master UNION ALL   SELECT * FROM sqlite_temp_master) WHERE name = ? AND type = 'table'\n",
      "2024-01-20 11:49:33,536 INFO sqlalchemy.engine.Engine [raw sql] ('measurement',)\n",
      "2024-01-20 11:49:33,536 INFO sqlalchemy.engine.Engine PRAGMA main.index_list(\"measurement\")\n",
      "2024-01-20 11:49:33,536 INFO sqlalchemy.engine.Engine [raw sql] ()\n",
      "2024-01-20 11:49:33,536 INFO sqlalchemy.engine.Engine PRAGMA temp.index_list(\"measurement\")\n",
      "2024-01-20 11:49:33,536 INFO sqlalchemy.engine.Engine [raw sql] ()\n",
      "2024-01-20 11:49:33,536 INFO sqlalchemy.engine.Engine PRAGMA main.index_list(\"measurement\")\n",
      "2024-01-20 11:49:33,536 INFO sqlalchemy.engine.Engine [raw sql] ()\n",
      "2024-01-20 11:49:33,536 INFO sqlalchemy.engine.Engine PRAGMA temp.index_list(\"measurement\")\n",
      "2024-01-20 11:49:33,536 INFO sqlalchemy.engine.Engine [raw sql] ()\n",
      "2024-01-20 11:49:33,551 INFO sqlalchemy.engine.Engine SELECT sql FROM  (SELECT * FROM sqlite_master UNION ALL   SELECT * FROM sqlite_temp_master) WHERE name = ? AND type = 'table'\n",
      "2024-01-20 11:49:33,551 INFO sqlalchemy.engine.Engine [raw sql] ('measurement',)\n",
      "2024-01-20 11:49:33,553 INFO sqlalchemy.engine.Engine PRAGMA main.table_xinfo(\"station\")\n",
      "2024-01-20 11:49:33,554 INFO sqlalchemy.engine.Engine [raw sql] ()\n",
      "2024-01-20 11:49:33,555 INFO sqlalchemy.engine.Engine SELECT sql FROM  (SELECT * FROM sqlite_master UNION ALL   SELECT * FROM sqlite_temp_master) WHERE name = ? AND type = 'table'\n",
      "2024-01-20 11:49:33,556 INFO sqlalchemy.engine.Engine [raw sql] ('station',)\n",
      "2024-01-20 11:49:33,556 INFO sqlalchemy.engine.Engine PRAGMA main.foreign_key_list(\"station\")\n",
      "2024-01-20 11:49:33,556 INFO sqlalchemy.engine.Engine [raw sql] ()\n",
      "2024-01-20 11:49:33,556 INFO sqlalchemy.engine.Engine PRAGMA temp.foreign_key_list(\"station\")\n",
      "2024-01-20 11:49:33,556 INFO sqlalchemy.engine.Engine [raw sql] ()\n",
      "2024-01-20 11:49:33,556 INFO sqlalchemy.engine.Engine SELECT sql FROM  (SELECT * FROM sqlite_master UNION ALL   SELECT * FROM sqlite_temp_master) WHERE name = ? AND type = 'table'\n",
      "2024-01-20 11:49:33,556 INFO sqlalchemy.engine.Engine [raw sql] ('station',)\n",
      "2024-01-20 11:49:33,556 INFO sqlalchemy.engine.Engine PRAGMA main.index_list(\"station\")\n",
      "2024-01-20 11:49:33,556 INFO sqlalchemy.engine.Engine [raw sql] ()\n",
      "2024-01-20 11:49:33,556 INFO sqlalchemy.engine.Engine PRAGMA temp.index_list(\"station\")\n",
      "2024-01-20 11:49:33,556 INFO sqlalchemy.engine.Engine [raw sql] ()\n",
      "2024-01-20 11:49:33,556 INFO sqlalchemy.engine.Engine PRAGMA main.index_list(\"station\")\n",
      "2024-01-20 11:49:33,556 INFO sqlalchemy.engine.Engine [raw sql] ()\n",
      "2024-01-20 11:49:33,556 INFO sqlalchemy.engine.Engine PRAGMA temp.index_list(\"station\")\n",
      "2024-01-20 11:49:33,556 INFO sqlalchemy.engine.Engine [raw sql] ()\n",
      "2024-01-20 11:49:33,556 INFO sqlalchemy.engine.Engine SELECT sql FROM  (SELECT * FROM sqlite_master UNION ALL   SELECT * FROM sqlite_temp_master) WHERE name = ? AND type = 'table'\n",
      "2024-01-20 11:49:33,556 INFO sqlalchemy.engine.Engine [raw sql] ('station',)\n"
     ]
    }
   ],
   "source": [
    "# reflect an existing database into a new model\n",
    "Base = automap_base()\n",
    "# reflect the tables\n",
    "Base.prepare(autoload_with=engine)"
   ]
  },
  {
   "cell_type": "code",
   "execution_count": 6,
   "metadata": {},
   "outputs": [
    {
     "data": {
      "text/plain": [
       "['measurement', 'station']"
      ]
     },
     "execution_count": 6,
     "metadata": {},
     "output_type": "execute_result"
    }
   ],
   "source": [
    "# View all of the classes that automap found\n",
    "Base.classes.keys()"
   ]
  },
  {
   "cell_type": "code",
   "execution_count": 7,
   "metadata": {},
   "outputs": [],
   "source": [
    "# Save references to each table\n",
    "measure = Base.classes.measurement\n",
    "station = Base.classes.station"
   ]
  },
  {
   "cell_type": "code",
   "execution_count": 8,
   "metadata": {},
   "outputs": [],
   "source": [
    "# Create our session (link) from Python to the DB\n",
    "session = Session(engine)"
   ]
  },
  {
   "cell_type": "markdown",
   "metadata": {},
   "source": [
    "# Exploratory Precipitation Analysis"
   ]
  },
  {
   "cell_type": "code",
   "execution_count": 9,
   "metadata": {},
   "outputs": [
    {
     "name": "stdout",
     "output_type": "stream",
     "text": [
      "2024-01-20 11:49:37,655 INFO sqlalchemy.engine.Engine PRAGMA main.table_xinfo(\"measurement\")\n",
      "2024-01-20 11:49:37,656 INFO sqlalchemy.engine.Engine [raw sql] ()\n",
      "{'name': 'id', 'type': INTEGER(), 'nullable': False, 'default': None, 'autoincrement': 'auto', 'primary_key': 1}\n",
      "{'name': 'station', 'type': TEXT(), 'nullable': True, 'default': None, 'autoincrement': 'auto', 'primary_key': 0}\n",
      "{'name': 'date', 'type': TEXT(), 'nullable': True, 'default': None, 'autoincrement': 'auto', 'primary_key': 0}\n",
      "{'name': 'prcp', 'type': FLOAT(), 'nullable': True, 'default': None, 'autoincrement': 'auto', 'primary_key': 0}\n",
      "{'name': 'tobs', 'type': FLOAT(), 'nullable': True, 'default': None, 'autoincrement': 'auto', 'primary_key': 0}\n"
     ]
    }
   ],
   "source": [
    "# Using inspect to determine table layouts\n",
    "\n",
    "# measurement table\n",
    "inspector = inspect(engine)\n",
    "columns = inspector.get_columns('measurement')\n",
    "for c in columns:\n",
    "    print(c)"
   ]
  },
  {
   "cell_type": "code",
   "execution_count": 10,
   "metadata": {},
   "outputs": [
    {
     "name": "stdout",
     "output_type": "stream",
     "text": [
      "2024-01-20 11:49:38,517 INFO sqlalchemy.engine.Engine PRAGMA main.table_xinfo(\"station\")\n",
      "2024-01-20 11:49:38,517 INFO sqlalchemy.engine.Engine [raw sql] ()\n",
      "{'name': 'id', 'type': INTEGER(), 'nullable': False, 'default': None, 'autoincrement': 'auto', 'primary_key': 1}\n",
      "{'name': 'station', 'type': TEXT(), 'nullable': True, 'default': None, 'autoincrement': 'auto', 'primary_key': 0}\n",
      "{'name': 'name', 'type': TEXT(), 'nullable': True, 'default': None, 'autoincrement': 'auto', 'primary_key': 0}\n",
      "{'name': 'latitude', 'type': FLOAT(), 'nullable': True, 'default': None, 'autoincrement': 'auto', 'primary_key': 0}\n",
      "{'name': 'longitude', 'type': FLOAT(), 'nullable': True, 'default': None, 'autoincrement': 'auto', 'primary_key': 0}\n",
      "{'name': 'elevation', 'type': FLOAT(), 'nullable': True, 'default': None, 'autoincrement': 'auto', 'primary_key': 0}\n"
     ]
    }
   ],
   "source": [
    "# List of column names in Station Table\n",
    "columns = inspector.get_columns('station')\n",
    "for c in columns:\n",
    "    print(c)"
   ]
  },
  {
   "cell_type": "code",
   "execution_count": 11,
   "metadata": {},
   "outputs": [
    {
     "name": "stdout",
     "output_type": "stream",
     "text": [
      "2024-01-20 11:49:39,252 INFO sqlalchemy.engine.Engine BEGIN (implicit)\n",
      "2024-01-20 11:49:39,257 INFO sqlalchemy.engine.Engine SELECT measurement.date AS measurement_date \n",
      "FROM measurement ORDER BY measurement.date DESC\n",
      " LIMIT ? OFFSET ?\n",
      "2024-01-20 11:49:39,258 INFO sqlalchemy.engine.Engine [generated in 0.00122s] (1, 0)\n",
      "('2017-08-23',)\n"
     ]
    }
   ],
   "source": [
    "# Find the most recent date in the data set.\n",
    "# use measure table\n",
    "recentdate = session.query(measure.date).order_by(measure.date.desc()).first()\n",
    "print(recentdate)"
   ]
  },
  {
   "cell_type": "code",
   "execution_count": 12,
   "metadata": {},
   "outputs": [
    {
     "name": "stdout",
     "output_type": "stream",
     "text": [
      "2024-01-20 11:51:47,319 INFO sqlalchemy.engine.Engine SELECT measurement.date AS measurement_date, measurement.prcp AS measurement_prcp \n",
      "FROM measurement \n",
      "WHERE measurement.date >= ?\n",
      "2024-01-20 11:51:47,320 INFO sqlalchemy.engine.Engine [generated in 0.00125s] ('2016-08-23',)\n"
     ]
    },
    {
     "data": {
      "image/png": "[encoded data removed]",
      "text/plain": [
       "<Figure size 640x480 with 1 Axes>"
      ]
     },
     "metadata": {},
     "output_type": "display_data"
    }
   ],
   "source": [
    "# Design a query to retrieve the last 12 months of precipitation data and plot the results. \n",
    "# Starting from the most recent data point in the database\n",
    "\n",
    "# Calculate the date one year from the last date in data set.\n",
    "querydate = dt.date(2017,8,23) - dt.timedelta(days=365)\n",
    "\n",
    "# Perform a query to retrieve the data and precipitation scores\n",
    "data = session.query(measure.date, measure.prcp).\\\n",
    "    filter(measure.date >= querydate).all()\n",
    "\n",
    "# Save the query results as a Pandas DataFrame. Explicitly set the column names\n",
    "precip = pd.DataFrame(data, columns=[\"Date\", \"Precipitation\"])\n",
    "\n",
    "# Sort the dataframe by date\n",
    "precip_sort = precip.sort_values(\"Date\")\n",
    "precip_sort = precip_sort.dropna()\n",
    "precip_sort = precip_sort.reset_index(drop=True)\n",
    "\n",
    "# Use Pandas Plotting with Matplotlib to plot the data\n",
    "xval = precip_sort['Date'].tolist()\n",
    "yval = precip_sort['Precipitation'].tolist()\n",
    "plt.bar(xval, yval, width=5)\n",
    "plt.xticks([\"2016-08-23\",\"2016-11-09\",\"2017-01-28\", \"2017-04-18\",\"2017-07-10\"], rotation=90)\n",
    "plt.xlabel(\"Date\")\n",
    "plt.ylabel(\"Inches\")\n",
    "plt.legend([\"Precipitation\"])\n",
    "plt.show()"
   ]
  },
  {
   "cell_type": "code",
   "execution_count": 14,
   "metadata": {},
   "outputs": [
    {
     "data": {
      "text/html": [
       "<div>\n",
       "<style scoped>\n",
       "    .dataframe tbody tr th:only-of-type {\n",
       "        vertical-align: middle;\n",
       "    }\n",
       "\n",
       "    .dataframe tbody tr th {\n",
       "        vertical-align: top;\n",
       "    }\n",
       "\n",
       "    .dataframe thead th {\n",
       "        text-align: right;\n",
       "    }\n",
       "</style>\n",
       "<table border=\"1\" class=\"dataframe\">\n",
       "  <thead>\n",
       "    <tr style=\"text-align: right;\">\n",
       "      <th></th>\n",
       "      <th>Precipitation</th>\n",
       "    </tr>\n",
       "  </thead>\n",
       "  <tbody>\n",
       "    <tr>\n",
       "      <th>count</th>\n",
       "      <td>2021.000000</td>\n",
       "    </tr>\n",
       "    <tr>\n",
       "      <th>mean</th>\n",
       "      <td>0.177279</td>\n",
       "    </tr>\n",
       "    <tr>\n",
       "      <th>std</th>\n",
       "      <td>0.461190</td>\n",
       "    </tr>\n",
       "    <tr>\n",
       "      <th>min</th>\n",
       "      <td>0.000000</td>\n",
       "    </tr>\n",
       "    <tr>\n",
       "      <th>25%</th>\n",
       "      <td>0.000000</td>\n",
       "    </tr>\n",
       "    <tr>\n",
       "      <th>50%</th>\n",
       "      <td>0.020000</td>\n",
       "    </tr>\n",
       "    <tr>\n",
       "      <th>75%</th>\n",
       "      <td>0.130000</td>\n",
       "    </tr>\n",
       "    <tr>\n",
       "      <th>max</th>\n",
       "      <td>6.700000</td>\n",
       "    </tr>\n",
       "  </tbody>\n",
       "</table>\n",
       "</div>"
      ],
      "text/plain": [
       "       Precipitation\n",
       "count    2021.000000\n",
       "mean        0.177279\n",
       "std         0.461190\n",
       "min         0.000000\n",
       "25%         0.000000\n",
       "50%         0.020000\n",
       "75%         0.130000\n",
       "max         6.700000"
      ]
     },
     "execution_count": 14,
     "metadata": {},
     "output_type": "execute_result"
    }
   ],
   "source": [
    "# Use Pandas to calculate the summary statistics for the precipitation data\n",
    "precip_sort.describe()"
   ]
  },
  {
   "cell_type": "markdown",
   "metadata": {},
   "source": [
    "# Exploratory Station Analysis"
   ]
  },
  {
   "cell_type": "code",
   "execution_count": 21,
   "metadata": {},
   "outputs": [
    {
     "name": "stdout",
     "output_type": "stream",
     "text": [
      "2024-01-20 12:01:45,267 INFO sqlalchemy.engine.Engine SELECT count(*) AS count_1 \n",
      "FROM (SELECT DISTINCT station.id AS station_id \n",
      "FROM station) AS anon_1\n",
      "2024-01-20 12:01:45,268 INFO sqlalchemy.engine.Engine [cached since 39.52s ago] ()\n"
     ]
    },
    {
     "data": {
      "text/plain": [
       "9"
      ]
     },
     "execution_count": 21,
     "metadata": {},
     "output_type": "execute_result"
    }
   ],
   "source": [
    "# Design a query to calculate the total number of stations in the dataset\n",
    "station_list = session.query(station.id).distinct().count()\n",
    "station_list"
   ]
  },
  {
   "cell_type": "code",
   "execution_count": 38,
   "metadata": {},
   "outputs": [
    {
     "name": "stdout",
     "output_type": "stream",
     "text": [
      "2024-01-20 12:15:05,038 INFO sqlalchemy.engine.Engine SELECT measurement.station AS measurement_station, count(measurement.station) AS count_1 \n",
      "FROM measurement GROUP BY measurement.station ORDER BY count(measurement.station) DESC\n",
      "2024-01-20 12:15:05,040 INFO sqlalchemy.engine.Engine [cached since 56.07s ago] ()\n"
     ]
    },
    {
     "data": {
      "text/plain": [
       "[('USC00519281', 2772),\n",
       " ('USC00519397', 2724),\n",
       " ('USC00513117', 2709),\n",
       " ('USC00519523', 2669),\n",
       " ('USC00516128', 2612),\n",
       " ('USC00514830', 2202),\n",
       " ('USC00511918', 1979),\n",
       " ('USC00517948', 1372),\n",
       " ('USC00518838', 511)]"
      ]
     },
     "execution_count": 38,
     "metadata": {},
     "output_type": "execute_result"
    }
   ],
   "source": [
    "# Design a query to find the most active stations (i.e. which stations have the most rows?)\n",
    "# List the stations and their counts in descending order.\n",
    "activestat = session.query(measure.station, func.count(measure.station)).\\\n",
    "    group_by(measure.station).order_by(func.count(measure.station).desc()).all()\n",
    "activestat"
   ]
  },
  {
   "cell_type": "code",
   "execution_count": 57,
   "metadata": {},
   "outputs": [
    {
     "name": "stdout",
     "output_type": "stream",
     "text": [
      "2024-01-20 12:27:19,088 INFO sqlalchemy.engine.Engine SELECT min(measurement.tobs) AS min_1, max(measurement.tobs) AS max_1, avg(measurement.tobs) AS avg_1 \n",
      "FROM measurement \n",
      "WHERE measurement.station = ? GROUP BY measurement.station\n",
      "2024-01-20 12:27:19,089 INFO sqlalchemy.engine.Engine [cached since 415.4s ago] ('USC00519281',)\n"
     ]
    },
    {
     "data": {
      "text/plain": [
       "[(54.0, 85.0, 71.66378066378067)]"
      ]
     },
     "execution_count": 57,
     "metadata": {},
     "output_type": "execute_result"
    }
   ],
   "source": [
    "# Using the most active station id from the previous query, calculate the lowest, highest, and average temperature.\n",
    "stats = session.query(func.min(measure.tobs),func.max(measure.tobs), func.avg(measure.tobs)).\\\n",
    "    group_by(measure.station).filter(measure.station == 'USC00519281').all()\n",
    "stats"
   ]
  },
  {
   "cell_type": "code",
   "execution_count": 108,
   "metadata": {},
   "outputs": [
    {
     "name": "stdout",
     "output_type": "stream",
     "text": [
      "2024-01-20 13:11:52,099 INFO sqlalchemy.engine.Engine SELECT measurement.tobs AS measurement_tobs \n",
      "FROM measurement \n",
      "WHERE measurement.station = ? AND measurement.date >= ?\n",
      "2024-01-20 13:11:52,100 INFO sqlalchemy.engine.Engine [cached since 983.6s ago] ('USC00519281', '2016-08-23')\n"
     ]
    },
    {
     "data": {
      "image/png": "[encoded data removed]",
      "text/plain": [
       "<Figure size 640x480 with 1 Axes>"
      ]
     },
     "metadata": {},
     "output_type": "display_data"
    }
   ],
   "source": [
    "# Using the most active station id\n",
    "# Query the last 12 months of temperature observation data for this station and plot the results as a histogram\n",
    "\n",
    "activestation = session.query(measure.tobs).\\\n",
    "    filter(measure.station == 'USC00519281').\\\n",
    "    filter(measure.date >= querydate).all()\n",
    "\n",
    "statdf = pd.DataFrame(activestation, columns=[\"tobs\"])\n",
    "\n",
    "plt.hist(statdf, bins=12)\n",
    "plt.xlabel(\"Temperature\")\n",
    "plt.ylabel(\"Frequency\")\n",
    "plt.legend(['tobs'])\n",
    "plt.show()"
   ]
  },
  {
   "cell_type": "markdown",
   "metadata": {},
   "source": [
    "# Close Session"
   ]
  },
  {
   "cell_type": "code",
   "execution_count": 16,
   "metadata": {},
   "outputs": [],
   "source": [
    "# Close Session\n",
    "session.close()"
   ]
  },
  {
   "cell_type": "code",
   "execution_count": null,
   "metadata": {},
   "outputs": [],
   "source": []
  }
 ],
 "metadata": {
  "anaconda-cloud": {},
  "kernel_info": {
   "name": "python3"
  },
  "kernelspec": {
   "display_name": "Python 3 (ipykernel)",
   "language": "python",
   "name": "python3"
  },
  "language_info": {
   "codemirror_mode": {
    "name": "ipython",
    "version": 3
   },
   "file_extension": ".py",
   "mimetype": "text/x-python",
   "name": "python",
   "nbconvert_exporter": "python",
   "pygments_lexer": "ipython3",
   "version": "3.11.5"
  },
  "nteract": {
   "version": "0.12.3"
  },
  "varInspector": {
   "cols": {
    "lenName": 16,
    "lenType": 16,
    "lenVar": 40
   },
   "kernels_config": {
    "python": {
     "delete_cmd_postfix": "",
     "delete_cmd_prefix": "del ",
     "library": "var_list.py",
     "varRefreshCmd": "print(var_dic_list())"
    },
    "r": {
     "delete_cmd_postfix": ") ",
     "delete_cmd_prefix": "rm(",
     "library": "var_list.r",
     "varRefreshCmd": "cat(var_dic_list()) "
    }
   },
   "types_to_exclude": [
    "module",
    "function",
    "builtin_function_or_method",
    "instance",
    "_Feature"
   ],
   "window_display": false
  }
 },
 "nbformat": 4,
 "nbformat_minor": 2
}
